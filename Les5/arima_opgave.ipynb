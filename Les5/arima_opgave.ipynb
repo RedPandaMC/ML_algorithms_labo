{
 "cells": [
  {
   "cell_type": "markdown",
   "metadata": {},
   "source": [
    "# Arima\n",
    "\n",
    "Maak een ARIMA analyse, waarbij je met behulp van Grid search zoekt naar optimale parameters. Plot je resultaat. We kijken naar 3 datasets\n",
    "\n",
    "### Datasets:\n",
    "- Electric Production\n",
    "- AQI: Air quality: laad deze dataset in, en filter je dataframe zodat je enkel naar de data van Duitsland (Germany) kijkt. Filter ook de data tussen de start en 22 september 2022.\n",
    "- TF_BIRTHS: dit zijn recent opgevraagde geboortecijfers in Belgïe. \n",
    "    - Bekijk het histogram van het aantal geboortes. Denk na over wat je ziet, en probeer samen met je ARIMA analyse te verklaren wat je ziet.\n",
    "    - Welke seizoenspatronen zitten er in de dataset ?\n",
    "    - Bekijk zowel de dagcijfers van het jaar 2022 apart, als de gehele dataset met maandcijfers apart."
   ]
  },
  {
   "cell_type": "code",
   "execution_count": null,
   "metadata": {},
   "outputs": [],
   "source": []
  }
 ],
 "metadata": {
  "language_info": {
   "name": "python"
  }
 },
 "nbformat": 4,
 "nbformat_minor": 2
}
