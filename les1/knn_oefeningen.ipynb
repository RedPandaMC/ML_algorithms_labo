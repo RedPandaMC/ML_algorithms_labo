{
 "cells": [
  {
   "cell_type": "markdown",
   "metadata": {},
   "source": [
    "# Oefeningen week 1\n",
    "\n",
    "## Conda\n",
    "- Maak een aparte directory voor dit vak\n",
    "- Maak een conda omgeving voor dit vak 'ml_algorithms'\n",
    "- Gebruik deze omgeving om gaandeweg packages toe te voegen naargelang nodig. Hou je versie bij in een environment.yml file.\n",
    "    - matplotlib, pandas, numpy, scikit-learn zijn al essentieel om te kunnen starten."
   ]
  },
  {
   "cell_type": "markdown",
   "metadata": {},
   "source": [
    "## KNN\n",
    "Implementeer KNN in Python, gebruik de code snippet hieronder als startpunt."
   ]
  },
  {
   "cell_type": "code",
   "execution_count": 19,
   "metadata": {
    "ExecuteTime": {
     "end_time": "2023-09-21T10:26:01.007652700Z",
     "start_time": "2023-09-21T10:26:00.981929700Z"
    }
   },
   "outputs": [
    {
     "name": "stdout",
     "output_type": "stream",
     "text": [
      "Predicted house prices: [276666 223333]\n"
     ]
    }
   ],
   "source": [
    "import numpy as np\n",
    "\n",
    "class KNNClassifier:\n",
    "    def __init__(self, k=3):\n",
    "        self.k = k\n",
    "        self.X_train = None\n",
    "        self.y_train = None\n",
    "\n",
    "    def fit(self, X, y):\n",
    "        self.X_train = X\n",
    "        self.y_train = y\n",
    "\n",
    "    def euclidean_distance(self, x1, x2): \n",
    "        \"\"\"x in this is an array not a number\"\"\"\n",
    "        return np.sqrt(np.sum((x1 - x2)**2))\n",
    "\n",
    "    def predict(self, X):\n",
    "        \"\"\"Gets the test labels and splits them into 1 label runs _predict on that label\"\"\"\n",
    "        predicted_labels = [self._predict(x) for x in X]\n",
    "        return np.array(predicted_labels)\n",
    "\n",
    "    def _predict(self, x):\n",
    "        \"\"\"gets the euclidian distance from data from one x_tst array and performs\"\"\"\n",
    "        distances = [self.euclidean_distance(x, x_train) for x_train in self.X_train]\n",
    "        k_indices = np.argsort(distances)[:self.k]\n",
    "        k_nearest_labels = [self.y_train[i] for i in k_indices]\n",
    "        return np.mean(k_nearest_labels,dtype=int)\n",
    "\n",
    "# Sample dataset\n",
    "X_train = np.array([\n",
    "    [0, 0, 1000, 2, 1],\n",
    "    [1, 1, 1500, 3, 2],\n",
    "    [2, 2, 1200, 2, 1],\n",
    "    [3, 3, 1800, 4, 2],\n",
    "    [4, 4, 2000, 3, 2]\n",
    "])\n",
    "    \n",
    "y_train = np.array([200000, 250000, 220000, 280000, 300000])\n",
    "\n",
    "X_test = np.array([\n",
    "    [5, 5, 1600, 3, 1],\n",
    "    [2, 3, 1300, 2, 1]\n",
    "])\n",
    "\n",
    "knn = KNNClassifier(k=3)\n",
    "knn.fit(X_train[:, 1:], y_train)  # Ignoring the x-y coordinates for simplicity\n",
    "predictions = knn.predict(X_test[:, 1:])\n",
    "print(\"Predicted house prices:\", predictions)"
   ]
  },
  {
   "cell_type": "markdown",
   "metadata": {},
   "source": [
    "### Iris Flowers dataset"
   ]
  },
  {
   "cell_type": "markdown",
   "metadata": {},
   "source": [
    "- Haal de dataset van de iris flowers binnen. Ze zit ingebakken in sci-kit-learn\n",
    "- Gebruik de sci-kit learn library om een KNN classifier te trainen.\n",
    "- Vergeet niet je algoritme te scoren\n",
    "- Bekijk het effect van het al dan niet gebruiken van een StandardScaler"
   ]
  },
  {
   "cell_type": "code",
   "execution_count": 48,
   "outputs": [],
   "source": [
    "from sklearn.datasets import load_iris\n",
    "from sklearn.model_selection import train_test_split\n",
    "from sklearn.preprocessing import StandardScaler\n",
    "from sklearn.neighbors import KNeighborsClassifier\n",
    "from sklearn.metrics import accuracy_score\n",
    "from sklearn.metrics import classification_report\n",
    "iris = load_iris()\n",
    "x = iris.data #features\n",
    "y = iris.target #labs"
   ],
   "metadata": {
    "collapsed": false,
    "ExecuteTime": {
     "end_time": "2023-09-21T10:54:13.480507400Z",
     "start_time": "2023-09-21T10:54:13.457808700Z"
    }
   }
  },
  {
   "cell_type": "code",
   "execution_count": 49,
   "outputs": [],
   "source": [
    "x_trn, x_tst, y_trn, y_tst = train_test_split(x,y, test_size=0.2, random_state = 1)"
   ],
   "metadata": {
    "collapsed": false,
    "ExecuteTime": {
     "end_time": "2023-09-21T10:54:13.916763Z",
     "start_time": "2023-09-21T10:54:13.896545500Z"
    }
   }
  },
  {
   "cell_type": "code",
   "execution_count": 50,
   "outputs": [],
   "source": [
    "scaler = StandardScaler()\n",
    "x_trn_scl = scaler.fit_transform(x_trn)\n",
    "x_tst_scl = scaler.transform(x_tst)"
   ],
   "metadata": {
    "collapsed": false,
    "ExecuteTime": {
     "end_time": "2023-09-21T10:54:14.324200600Z",
     "start_time": "2023-09-21T10:54:14.303817900Z"
    }
   }
  },
  {
   "cell_type": "code",
   "execution_count": 51,
   "outputs": [
    {
     "name": "stdout",
     "output_type": "stream",
     "text": [
      "[0 1 1 0 2 1 2 0 0 2 1 0 2 1 1 0 1 1 0 0 1 1 1 0 2 1 0 0 1 2]\n"
     ]
    }
   ],
   "source": [
    "classifier = KNeighborsClassifier(3)\n",
    "classifier.fit(x_trn_scl, y_trn)\n",
    "predicted = classifier.predict(x_tst_scl)\n",
    "print(predicted)"
   ],
   "metadata": {
    "collapsed": false,
    "ExecuteTime": {
     "end_time": "2023-09-21T10:54:14.859387800Z",
     "start_time": "2023-09-21T10:54:14.847851700Z"
    }
   }
  },
  {
   "cell_type": "code",
   "execution_count": 52,
   "outputs": [
    {
     "name": "stdout",
     "output_type": "stream",
     "text": [
      "1.0\n"
     ]
    }
   ],
   "source": [
    "accuracy = accuracy_score(y_tst,predicted)\n",
    "print(accuracy)"
   ],
   "metadata": {
    "collapsed": false,
    "ExecuteTime": {
     "end_time": "2023-09-21T10:54:17.224675600Z",
     "start_time": "2023-09-21T10:54:17.160947Z"
    }
   }
  },
  {
   "cell_type": "code",
   "execution_count": 53,
   "outputs": [
    {
     "name": "stdout",
     "output_type": "stream",
     "text": [
      "              precision    recall  f1-score   support\n",
      "\n",
      "           0       1.00      1.00      1.00        11\n",
      "           1       1.00      1.00      1.00        13\n",
      "           2       1.00      1.00      1.00         6\n",
      "\n",
      "    accuracy                           1.00        30\n",
      "   macro avg       1.00      1.00      1.00        30\n",
      "weighted avg       1.00      1.00      1.00        30\n"
     ]
    }
   ],
   "source": [
    "report = classification_report(y_tst,predicted)\n",
    "print(report)"
   ],
   "metadata": {
    "collapsed": false,
    "ExecuteTime": {
     "end_time": "2023-09-21T10:54:52.227902Z",
     "start_time": "2023-09-21T10:54:52.168901300Z"
    }
   }
  },
  {
   "cell_type": "markdown",
   "source": [
    "## Mall customers\n",
    "\n",
    "Bekijk de data van de Mall_customers.csv - laad deze in en bekijk de kolommen. Pas hier KNN toe (laatste kolom spending score is het te voorspellen label). Wat moet je nog aanpassen om dit goed te laten werken ?"
   ],
   "metadata": {
    "collapsed": false
   }
  },
  {
   "cell_type": "code",
   "execution_count": null,
   "metadata": {},
   "outputs": [],
   "source": [
    "#code"
   ]
  },
  {
   "cell_type": "markdown",
   "metadata": {},
   "source": []
  }
 ],
 "metadata": {
  "language_info": {
   "name": "python"
  },
  "orig_nbformat": 4,
  "kernelspec": {
   "name": "python3",
   "language": "python",
   "display_name": "Python 3 (ipykernel)"
  }
 },
 "nbformat": 4,
 "nbformat_minor": 2
}
