{
 "cells": [
  {
   "cell_type": "markdown",
   "metadata": {},
   "source": [
    "# Oefeningen\n",
    "\n",
    "## Breast Cancer"
   ]
  },
  {
   "cell_type": "code",
   "execution_count": 1,
   "metadata": {
    "ExecuteTime": {
     "end_time": "2023-10-07T11:30:10.634891900Z",
     "start_time": "2023-10-07T11:30:09.482628Z"
    }
   },
   "outputs": [],
   "source": [
    "#import ...\n",
    "from sklearn.datasets import load_breast_cancer\n",
    "from sklearn.model_selection import train_test_split\n",
    "from sklearn.preprocessing import StandardScaler\n",
    "from sklearn.svm import SVC\n",
    "from sklearn.metrics import accuracy_score\n",
    "from sklearn.metrics import classification_report\n",
    "from sklearn.model_selection import GridSearchCV"
   ]
  },
  {
   "cell_type": "code",
   "execution_count": 2,
   "metadata": {
    "ExecuteTime": {
     "end_time": "2023-10-07T11:30:10.657606600Z",
     "start_time": "2023-10-07T11:30:10.634891900Z"
    }
   },
   "outputs": [],
   "source": [
    "# Laad de dataset in. Bekijk deze even om te zien waar je juist mee gaan werken\n",
    "breast_cancer = load_breast_cancer()\n",
    "\n",
    "x = breast_cancer.data\n",
    "y = breast_cancer.target"
   ]
  },
  {
   "cell_type": "code",
   "execution_count": 3,
   "metadata": {
    "ExecuteTime": {
     "end_time": "2023-10-07T11:30:10.676924Z",
     "start_time": "2023-10-07T11:30:10.661369700Z"
    }
   },
   "outputs": [],
   "source": [
    "# Split de dataset. We gebruiken in deze les consequent random seed 10.\n",
    "x_trn, x_tst, y_trn, y_tst = train_test_split(x,y, test_size=0.2, random_state = 10)"
   ]
  },
  {
   "cell_type": "code",
   "execution_count": 4,
   "metadata": {
    "ExecuteTime": {
     "end_time": "2023-10-07T11:30:10.676924Z",
     "start_time": "2023-10-07T11:30:10.676924Z"
    }
   },
   "outputs": [],
   "source": [
    "# Gebruik een standardscaler\n",
    "scaler = StandardScaler()\n",
    "x_trn_scl = scaler.fit_transform(x_trn)\n",
    "x_tst_scl = scaler.transform(x_tst)"
   ]
  },
  {
   "cell_type": "code",
   "execution_count": 5,
   "metadata": {
    "ExecuteTime": {
     "end_time": "2023-10-07T11:30:17.786950300Z",
     "start_time": "2023-10-07T11:30:10.972616300Z"
    }
   },
   "outputs": [
    {
     "name": "stdout",
     "output_type": "stream",
     "text": [
      "Best Parameters: {'C': 0.1, 'gamma': 1, 'kernel': 'linear'}\n"
     ]
    }
   ],
   "source": [
    "# Creëer en train een SVM classifier. Gebruik random seed 10.\n",
    "param_grid = {\n",
    "    'C': [0.01,0.1, 1, 10, 100], \n",
    "    'gamma': [1, 0.1, 0.01, 0.001,0.0001], \n",
    "    'kernel': ['linear','rbf', 'poly', 'sigmoid',]  \n",
    "}\n",
    "\n",
    "classifier = SVC(random_state=10)\n",
    "\n",
    "grid_search = GridSearchCV(estimator=classifier, \n",
    "                           param_grid=param_grid, \n",
    "                           cv=10,\n",
    "                           n_jobs=-1\n",
    "                          )\n",
    "\n",
    "\n",
    "grid_search.fit(x_trn_scl,y_trn)\n",
    "best_params = grid_search.best_params_\n",
    "print(f\"Best Parameters: {best_params}\")\n",
    "best_classifier = grid_search.best_estimator_"
   ]
  },
  {
   "cell_type": "code",
   "execution_count": 6,
   "metadata": {
    "ExecuteTime": {
     "end_time": "2023-10-07T11:30:17.786950300Z",
     "start_time": "2023-10-07T11:30:17.774891Z"
    }
   },
   "outputs": [],
   "source": [
    "# Maak voorspellingen over de test data\n",
    "predicted = best_classifier.predict(x_tst_scl)"
   ]
  },
  {
   "cell_type": "code",
   "execution_count": 7,
   "metadata": {
    "ExecuteTime": {
     "end_time": "2023-10-07T11:30:17.829936500Z",
     "start_time": "2023-10-07T11:30:17.786950300Z"
    }
   },
   "outputs": [
    {
     "name": "stdout",
     "output_type": "stream",
     "text": [
      "0.9736842105263158\n",
      "              precision    recall  f1-score   support\n",
      "\n",
      "           0       0.97      0.95      0.96        39\n",
      "           1       0.97      0.99      0.98        75\n",
      "\n",
      "    accuracy                           0.97       114\n",
      "   macro avg       0.97      0.97      0.97       114\n",
      "weighted avg       0.97      0.97      0.97       114\n"
     ]
    }
   ],
   "source": [
    "# Bereken de accuraatheidscore van je model\n",
    "accuracy = accuracy_score(y_tst,predicted)\n",
    "print(accuracy)\n",
    "# Laat een classification report genereren.\n",
    "report = classification_report(y_tst,predicted)\n",
    "print(report)"
   ]
  },
  {
   "cell_type": "markdown",
   "metadata": {},
   "source": [
    "Even opfrissen:\n",
    "- *Precision*: (aantal True Positives) / (aantal True Positives + aantal False Positives)\n",
    "- *Recall*: (aantal True Positives) / (aantal True Positives + aantal False Negatives)\n",
    "- *Accuracy*: (aantal True Positive + aantal True Negative) / (totaal aantal Positive + totaal aantal Negative)"
   ]
  },
  {
   "cell_type": "code",
   "execution_count": 8,
   "metadata": {
    "ExecuteTime": {
     "end_time": "2023-10-07T11:30:17.897559800Z",
     "start_time": "2023-10-07T11:30:17.804813800Z"
    }
   },
   "outputs": [],
   "source": [
    "# Extra oefening: je kan nog finetunen met de hyperparameters..."
   ]
  },
  {
   "cell_type": "markdown",
   "source": [
    "## Digits\n",
    "\n",
    "Experimenteer met verschillende kernels, C-waardes, en kies een optimale configuratie."
   ],
   "metadata": {
    "collapsed": false
   }
  },
  {
   "cell_type": "code",
   "execution_count": 9,
   "metadata": {
    "ExecuteTime": {
     "end_time": "2023-10-07T11:30:18.368849100Z",
     "start_time": "2023-10-07T11:30:17.820905900Z"
    }
   },
   "outputs": [],
   "source": [
    "from sklearn import datasets\n",
    "from sklearn.model_selection import train_test_split\n",
    "from sklearn.svm import SVC\n",
    "from sklearn.pipeline import Pipeline\n",
    "from sklearn.preprocessing import StandardScaler\n",
    "from sklearn.model_selection import GridSearchCV\n",
    "from sklearn.metrics import accuracy_score, classification_report\n",
    "import matplotlib.pyplot as plt\n",
    "import numpy as np"
   ]
  },
  {
   "cell_type": "code",
   "execution_count": 10,
   "metadata": {
    "ExecuteTime": {
     "end_time": "2023-10-07T11:30:18.420294400Z",
     "start_time": "2023-10-07T11:30:18.372880Z"
    }
   },
   "outputs": [],
   "source": [
    "# Digits dataset:\n",
    "digits = datasets.load_digits()\n",
    "x = digits.data\n",
    "y = digits.target\n",
    "#print(digits)"
   ]
  },
  {
   "cell_type": "code",
   "execution_count": 11,
   "metadata": {
    "ExecuteTime": {
     "end_time": "2023-10-07T11:30:18.616694300Z",
     "start_time": "2023-10-07T11:30:18.592832400Z"
    }
   },
   "outputs": [],
   "source": [
    "# Data splitten\n",
    "x_trn, x_tst, y_trn, y_tst = train_test_split(x,y, test_size=0.2, random_state = 10)"
   ]
  },
  {
   "cell_type": "code",
   "execution_count": 12,
   "metadata": {
    "ExecuteTime": {
     "end_time": "2023-10-07T11:30:55.407241600Z",
     "start_time": "2023-10-07T11:30:19.228804800Z"
    }
   },
   "outputs": [
    {
     "data": {
      "text/plain": "GridSearchCV(estimator=Pipeline(steps=[('scaler', StandardScaler()),\n                                       ('classifier', SVC())]),\n             param_grid={'classifier__C': [0.1, 1, 10, 100],\n                         'classifier__gamma': [1, 0.1, 0.01, 0.001],\n                         'classifier__kernel': ['linear', 'rbf', 'poly',\n                                                'sigmoid']})",
      "text/html": "<style>#sk-container-id-1 {color: black;}#sk-container-id-1 pre{padding: 0;}#sk-container-id-1 div.sk-toggleable {background-color: white;}#sk-container-id-1 label.sk-toggleable__label {cursor: pointer;display: block;width: 100%;margin-bottom: 0;padding: 0.3em;box-sizing: border-box;text-align: center;}#sk-container-id-1 label.sk-toggleable__label-arrow:before {content: \"▸\";float: left;margin-right: 0.25em;color: #696969;}#sk-container-id-1 label.sk-toggleable__label-arrow:hover:before {color: black;}#sk-container-id-1 div.sk-estimator:hover label.sk-toggleable__label-arrow:before {color: black;}#sk-container-id-1 div.sk-toggleable__content {max-height: 0;max-width: 0;overflow: hidden;text-align: left;background-color: #f0f8ff;}#sk-container-id-1 div.sk-toggleable__content pre {margin: 0.2em;color: black;border-radius: 0.25em;background-color: #f0f8ff;}#sk-container-id-1 input.sk-toggleable__control:checked~div.sk-toggleable__content {max-height: 200px;max-width: 100%;overflow: auto;}#sk-container-id-1 input.sk-toggleable__control:checked~label.sk-toggleable__label-arrow:before {content: \"▾\";}#sk-container-id-1 div.sk-estimator input.sk-toggleable__control:checked~label.sk-toggleable__label {background-color: #d4ebff;}#sk-container-id-1 div.sk-label input.sk-toggleable__control:checked~label.sk-toggleable__label {background-color: #d4ebff;}#sk-container-id-1 input.sk-hidden--visually {border: 0;clip: rect(1px 1px 1px 1px);clip: rect(1px, 1px, 1px, 1px);height: 1px;margin: -1px;overflow: hidden;padding: 0;position: absolute;width: 1px;}#sk-container-id-1 div.sk-estimator {font-family: monospace;background-color: #f0f8ff;border: 1px dotted black;border-radius: 0.25em;box-sizing: border-box;margin-bottom: 0.5em;}#sk-container-id-1 div.sk-estimator:hover {background-color: #d4ebff;}#sk-container-id-1 div.sk-parallel-item::after {content: \"\";width: 100%;border-bottom: 1px solid gray;flex-grow: 1;}#sk-container-id-1 div.sk-label:hover label.sk-toggleable__label {background-color: #d4ebff;}#sk-container-id-1 div.sk-serial::before {content: \"\";position: absolute;border-left: 1px solid gray;box-sizing: border-box;top: 0;bottom: 0;left: 50%;z-index: 0;}#sk-container-id-1 div.sk-serial {display: flex;flex-direction: column;align-items: center;background-color: white;padding-right: 0.2em;padding-left: 0.2em;position: relative;}#sk-container-id-1 div.sk-item {position: relative;z-index: 1;}#sk-container-id-1 div.sk-parallel {display: flex;align-items: stretch;justify-content: center;background-color: white;position: relative;}#sk-container-id-1 div.sk-item::before, #sk-container-id-1 div.sk-parallel-item::before {content: \"\";position: absolute;border-left: 1px solid gray;box-sizing: border-box;top: 0;bottom: 0;left: 50%;z-index: -1;}#sk-container-id-1 div.sk-parallel-item {display: flex;flex-direction: column;z-index: 1;position: relative;background-color: white;}#sk-container-id-1 div.sk-parallel-item:first-child::after {align-self: flex-end;width: 50%;}#sk-container-id-1 div.sk-parallel-item:last-child::after {align-self: flex-start;width: 50%;}#sk-container-id-1 div.sk-parallel-item:only-child::after {width: 0;}#sk-container-id-1 div.sk-dashed-wrapped {border: 1px dashed gray;margin: 0 0.4em 0.5em 0.4em;box-sizing: border-box;padding-bottom: 0.4em;background-color: white;}#sk-container-id-1 div.sk-label label {font-family: monospace;font-weight: bold;display: inline-block;line-height: 1.2em;}#sk-container-id-1 div.sk-label-container {text-align: center;}#sk-container-id-1 div.sk-container {/* jupyter's `normalize.less` sets `[hidden] { display: none; }` but bootstrap.min.css set `[hidden] { display: none !important; }` so we also need the `!important` here to be able to override the default hidden behavior on the sphinx rendered scikit-learn.org. See: https://github.com/scikit-learn/scikit-learn/issues/21755 */display: inline-block !important;position: relative;}#sk-container-id-1 div.sk-text-repr-fallback {display: none;}</style><div id=\"sk-container-id-1\" class=\"sk-top-container\"><div class=\"sk-text-repr-fallback\"><pre>GridSearchCV(estimator=Pipeline(steps=[(&#x27;scaler&#x27;, StandardScaler()),\n                                       (&#x27;classifier&#x27;, SVC())]),\n             param_grid={&#x27;classifier__C&#x27;: [0.1, 1, 10, 100],\n                         &#x27;classifier__gamma&#x27;: [1, 0.1, 0.01, 0.001],\n                         &#x27;classifier__kernel&#x27;: [&#x27;linear&#x27;, &#x27;rbf&#x27;, &#x27;poly&#x27;,\n                                                &#x27;sigmoid&#x27;]})</pre><b>In a Jupyter environment, please rerun this cell to show the HTML representation or trust the notebook. <br />On GitHub, the HTML representation is unable to render, please try loading this page with nbviewer.org.</b></div><div class=\"sk-container\" hidden><div class=\"sk-item sk-dashed-wrapped\"><div class=\"sk-label-container\"><div class=\"sk-label sk-toggleable\"><input class=\"sk-toggleable__control sk-hidden--visually\" id=\"sk-estimator-id-1\" type=\"checkbox\" ><label for=\"sk-estimator-id-1\" class=\"sk-toggleable__label sk-toggleable__label-arrow\">GridSearchCV</label><div class=\"sk-toggleable__content\"><pre>GridSearchCV(estimator=Pipeline(steps=[(&#x27;scaler&#x27;, StandardScaler()),\n                                       (&#x27;classifier&#x27;, SVC())]),\n             param_grid={&#x27;classifier__C&#x27;: [0.1, 1, 10, 100],\n                         &#x27;classifier__gamma&#x27;: [1, 0.1, 0.01, 0.001],\n                         &#x27;classifier__kernel&#x27;: [&#x27;linear&#x27;, &#x27;rbf&#x27;, &#x27;poly&#x27;,\n                                                &#x27;sigmoid&#x27;]})</pre></div></div></div><div class=\"sk-parallel\"><div class=\"sk-parallel-item\"><div class=\"sk-item\"><div class=\"sk-label-container\"><div class=\"sk-label sk-toggleable\"><input class=\"sk-toggleable__control sk-hidden--visually\" id=\"sk-estimator-id-2\" type=\"checkbox\" ><label for=\"sk-estimator-id-2\" class=\"sk-toggleable__label sk-toggleable__label-arrow\">estimator: Pipeline</label><div class=\"sk-toggleable__content\"><pre>Pipeline(steps=[(&#x27;scaler&#x27;, StandardScaler()), (&#x27;classifier&#x27;, SVC())])</pre></div></div></div><div class=\"sk-serial\"><div class=\"sk-item\"><div class=\"sk-serial\"><div class=\"sk-item\"><div class=\"sk-estimator sk-toggleable\"><input class=\"sk-toggleable__control sk-hidden--visually\" id=\"sk-estimator-id-3\" type=\"checkbox\" ><label for=\"sk-estimator-id-3\" class=\"sk-toggleable__label sk-toggleable__label-arrow\">StandardScaler</label><div class=\"sk-toggleable__content\"><pre>StandardScaler()</pre></div></div></div><div class=\"sk-item\"><div class=\"sk-estimator sk-toggleable\"><input class=\"sk-toggleable__control sk-hidden--visually\" id=\"sk-estimator-id-4\" type=\"checkbox\" ><label for=\"sk-estimator-id-4\" class=\"sk-toggleable__label sk-toggleable__label-arrow\">SVC</label><div class=\"sk-toggleable__content\"><pre>SVC()</pre></div></div></div></div></div></div></div></div></div></div></div></div>"
     },
     "execution_count": 12,
     "metadata": {},
     "output_type": "execute_result"
    }
   ],
   "source": [
    "# Standardizeren, doe dit eens in een pipeline samen met je model\n",
    "pipeline = Pipeline([\n",
    "    ('scaler', StandardScaler()),  # Standardize features\n",
    "    ('classifier', SVC()),  # Classifier\n",
    "])\n",
    "\n",
    "param_grid = {\n",
    "    'classifier__C': [0.1, 1, 10, 100],\n",
    "    'classifier__gamma': [1, 0.1, 0.01, 0.001],\n",
    "    'classifier__kernel': ['linear','rbf', 'poly', 'sigmoid']\n",
    "}\n",
    "grid = GridSearchCV(pipeline, param_grid, refit=True)\n",
    "grid.fit(x_trn, y_trn)"
   ]
  },
  {
   "cell_type": "code",
   "execution_count": 13,
   "metadata": {
    "ExecuteTime": {
     "end_time": "2023-10-07T11:30:55.481842600Z",
     "start_time": "2023-10-07T11:30:55.407241600Z"
    }
   },
   "outputs": [],
   "source": [
    "# Maak voorspellingen op de test data\n",
    "predicted = grid.predict(x_tst)"
   ]
  },
  {
   "cell_type": "code",
   "execution_count": 14,
   "metadata": {
    "ExecuteTime": {
     "end_time": "2023-10-07T11:30:55.481842600Z",
     "start_time": "2023-10-07T11:30:55.432162300Z"
    }
   },
   "outputs": [
    {
     "name": "stdout",
     "output_type": "stream",
     "text": [
      "0.9916666666666667\n",
      "              precision    recall  f1-score   support\n",
      "\n",
      "           0       1.00      1.00      1.00        37\n",
      "           1       1.00      0.94      0.97        34\n",
      "           2       1.00      1.00      1.00        34\n",
      "           3       1.00      1.00      1.00        40\n",
      "           4       1.00      1.00      1.00        34\n",
      "           5       1.00      1.00      1.00        32\n",
      "           6       1.00      1.00      1.00        37\n",
      "           7       1.00      1.00      1.00        40\n",
      "           8       0.92      1.00      0.96        33\n",
      "           9       1.00      0.97      0.99        39\n",
      "\n",
      "    accuracy                           0.99       360\n",
      "   macro avg       0.99      0.99      0.99       360\n",
      "weighted avg       0.99      0.99      0.99       360\n"
     ]
    },
    {
     "data": {
      "text/plain": "'Ik vermoed 8'"
     },
     "execution_count": 14,
     "metadata": {},
     "output_type": "execute_result"
    }
   ],
   "source": [
    "accuracy = accuracy_score(y_tst,predicted)\n",
    "print(accuracy)\n",
    "report = classification_report(y_tst,predicted)\n",
    "print(report)\n",
    "# bereken accuraatheid en classificatie report. Welk cijfers is het moeilijkst om te classificeren ?\n",
    "\"\"\"Ik vermoed 8\"\"\""
   ]
  },
  {
   "cell_type": "markdown",
   "metadata": {},
   "source": [
    "Voor de volgende opgave mag je de hulp van ChatGPT en dergelijke inroepen."
   ]
  },
  {
   "cell_type": "code",
   "execution_count": 15,
   "metadata": {
    "ExecuteTime": {
     "end_time": "2023-10-07T11:30:56.316998200Z",
     "start_time": "2023-10-07T11:30:55.466102800Z"
    }
   },
   "outputs": [
    {
     "data": {
      "text/plain": "<Figure size 1000x1000 with 3 Axes>",
      "image/png": "[encoded data removed]"
     },
     "metadata": {},
     "output_type": "display_data"
    }
   ],
   "source": [
    "misclassified = np.where(y_tst != predicted)[0]\n",
    "fig, axes = plt.subplots(3, 3, figsize=(10, 10))\n",
    "\n",
    "if len(misclassified) < 9:\n",
    "    for ax in np.ravel(axes)[len(misclassified):]:\n",
    "        fig.delaxes(ax)\n",
    "\n",
    "for index, error in enumerate(misclassified[:9]):\n",
    "    ax = np.ravel(axes)[index]\n",
    "    ax.imshow(np.reshape(x_tst[error], (8,8)), cmap='gray')\n",
    "    ax.set_title(f'True: {y_tst[error]}\\nPredicted: {predicted[error]}')\n",
    "\n",
    "plt.tight_layout()\n",
    "plt.show()\n",
    "\n",
    "#Deze zijn ook moeilijk te spotten, vind ik."
   ]
  },
  {
   "cell_type": "markdown",
   "metadata": {},
   "source": [
    "## Wijn"
   ]
  },
  {
   "cell_type": "markdown",
   "metadata": {},
   "source": [
    "Train een SVM-classificator op de Wine-dataset, die je kunt laden met 'sklearn.datasets.load_wine()'. Deze dataset bevat de chemische analyse van 178 wijnmonsters geproduceerd door 3 verschillende telers: het doel is om een classificatiemodel te trainen dat in staat is om de cultivator te voorspellen op basis van de chemische analyse van de wijn. Aangezien SVM-classifiers binaire classifiers zijn, moet je one-versus-all gebruiken om alle 3 klassen te classificeren. Welke nauwkeurigheid kan je bereiken?"
   ]
  },
  {
   "cell_type": "markdown",
   "metadata": {},
   "source": [
    "Stappenplan:\n",
    "1. Data inladen\n",
    "2. Train/test split\n",
    "3. Een lineaire SVM gebruiken\n",
    "4. Een lineaire SVM gebruiken met 1000000 iteraties\n",
    "5. Evalueren\n",
    "6. Oplossingen zoeken voor mogelijke problemen"
   ]
  },
  {
   "cell_type": "code",
   "execution_count": 16,
   "metadata": {
    "ExecuteTime": {
     "end_time": "2023-10-07T11:30:56.421966700Z",
     "start_time": "2023-10-07T11:30:56.321724800Z"
    }
   },
   "outputs": [
    {
     "name": "stdout",
     "output_type": "stream",
     "text": [
      "Accuracy: 0.8888888888888888\n",
      "              precision    recall  f1-score   support\n",
      "\n",
      "     class_0       1.00      1.00      1.00        10\n",
      "     class_1       1.00      0.78      0.88        18\n",
      "     class_2       0.67      1.00      0.80         8\n",
      "\n",
      "    accuracy                           0.89        36\n",
      "   macro avg       0.89      0.93      0.89        36\n",
      "weighted avg       0.93      0.89      0.89        36\n"
     ]
    }
   ],
   "source": [
    "# Lineaire SVM gebruiken\n",
    "# Het probleem met meerdere klasses oplossen - bekijk de decoumentatie van LinearSVM op scikit learn docs\n",
    "from sklearn import datasets\n",
    "from sklearn.model_selection import train_test_split\n",
    "from sklearn import svm\n",
    "from sklearn.preprocessing import StandardScaler\n",
    "from sklearn.metrics import classification_report, accuracy_score\n",
    "\n",
    "wine = datasets.load_wine()\n",
    "x = wine.data\n",
    "y = wine.target\n",
    "\n",
    "x_trn, x_tst, y_trn, y_tst = train_test_split(\n",
    "    x, y, test_size=0.2, random_state=10\n",
    ")\n",
    "\n",
    "sc = StandardScaler()\n",
    "x_trn = sc.fit_transform(x_trn)\n",
    "x_tst = sc.transform(x_tst)\n",
    "\n",
    "clf = svm.SVC(kernel='linear')\n",
    "clf.fit(x_trn, y_trn)\n",
    "\n",
    "predicted = clf.predict(x_tst)\n",
    "print(\"Accuracy:\", accuracy_score(y_tst, predicted))\n",
    "print(classification_report(y_tst, predicted, target_names=wine.target_names))"
   ]
  },
  {
   "cell_type": "code",
   "execution_count": 17,
   "metadata": {
    "ExecuteTime": {
     "end_time": "2023-10-07T11:30:56.426171600Z",
     "start_time": "2023-10-07T11:30:56.361014500Z"
    }
   },
   "outputs": [
    {
     "name": "stdout",
     "output_type": "stream",
     "text": [
      "1000000 iteraties\n",
      "Accuracy: 0.8888888888888888\n",
      "              precision    recall  f1-score   support\n",
      "\n",
      "     class_0       1.00      1.00      1.00        10\n",
      "     class_1       1.00      0.78      0.88        18\n",
      "     class_2       0.67      1.00      0.80         8\n",
      "\n",
      "    accuracy                           0.89        36\n",
      "   macro avg       0.89      0.93      0.89        36\n",
      "weighted avg       0.93      0.89      0.89        36\n"
     ]
    },
    {
     "data": {
      "text/plain": "'De accuracy blijft hetzelfde, waarschijnlijk komt dit door dat er te weinig data is.'"
     },
     "execution_count": 17,
     "metadata": {},
     "output_type": "execute_result"
    }
   ],
   "source": [
    "# gebruik 1000000 iteraties\n",
    "clf = svm.SVC(kernel='linear', max_iter=1000000)\n",
    "clf.fit(x_trn, y_trn)\n",
    "\n",
    "predicted = clf.predict(x_tst)\n",
    "print(\"1000000 iteraties\")\n",
    "print(f\"Accuracy: {accuracy_score(y_tst, predicted)}\")\n",
    "print(classification_report(y_tst, predicted, target_names=wine.target_names))\n",
    "# wat is nu je conclusie over de dataset ? Hoe kun je dit oplossen ?\n",
    "\"\"\"De accuracy blijft hetzelfde, waarschijnlijk komt dit door dat er te weinig data is.\"\"\""
   ]
  },
  {
   "cell_type": "code",
   "execution_count": 18,
   "metadata": {
    "ExecuteTime": {
     "end_time": "2023-10-07T11:30:56.452544900Z",
     "start_time": "2023-10-07T11:30:56.385385200Z"
    }
   },
   "outputs": [
    {
     "name": "stdout",
     "output_type": "stream",
     "text": [
      "Cross-validation scores: [1. 1. 1. 1. 1.]\n",
      "Average cross-validation score: 1.0\n",
      "Accuracy: 0.8888888888888888\n",
      "              precision    recall  f1-score   support\n",
      "\n",
      "     class_0       1.00      1.00      1.00        10\n",
      "     class_1       1.00      0.78      0.88        18\n",
      "     class_2       0.67      1.00      0.80         8\n",
      "\n",
      "    accuracy                           0.89        36\n",
      "   macro avg       0.89      0.93      0.89        36\n",
      "weighted avg       0.93      0.89      0.89        36\n"
     ]
    }
   ],
   "source": [
    "# zoek op de documentatie op hoe je de cross_val_score kan gebruiken om cross-validatie te doen\n",
    "from sklearn import datasets\n",
    "from sklearn.model_selection import train_test_split, cross_val_score\n",
    "from sklearn import svm\n",
    "from sklearn.preprocessing import StandardScaler\n",
    "from sklearn.metrics import classification_report, accuracy_score\n",
    "\n",
    "wine = datasets.load_wine()\n",
    "x = wine.data\n",
    "y = wine.target\n",
    "\n",
    "x_trn, x_tst, y_trn, y_tst = train_test_split(\n",
    "    x, y, test_size=0.2, random_state=10\n",
    ")\n",
    "\n",
    "sc = StandardScaler()\n",
    "x_trn = sc.fit_transform(x_trn)\n",
    "x_tst = sc.transform(x_tst)\n",
    "\n",
    "clf = svm.SVC(kernel='linear')\n",
    "clf.fit(x_trn, y_trn)\n",
    "\n",
    "# cross-validation with 5 folds\n",
    "scores = cross_val_score(clf, x_trn, y_trn, cv=5)\n",
    "\n",
    "predicted = clf.predict(x_tst)\n",
    "print(f\"Cross-validation scores: {scores}\")\n",
    "print(f\"Average cross-validation score: {scores.mean()}\")\n",
    "print(f\"Accuracy: {accuracy_score(y_tst, predicted)}\")\n",
    "print(classification_report(y_tst, predicted, target_names=wine.target_names))"
   ]
  },
  {
   "cell_type": "markdown",
   "metadata": {},
   "source": [
    "### Nu kijken we naar andere kernels voor algemene SVM\n",
    "\n",
    "We werken verder met dezelfde dataset, maar nu niet meer beperkt tot een lineaire SVM"
   ]
  },
  {
   "cell_type": "code",
   "execution_count": 19,
   "metadata": {
    "ExecuteTime": {
     "end_time": "2023-10-07T11:30:56.584148400Z",
     "start_time": "2023-10-07T11:30:56.435802400Z"
    }
   },
   "outputs": [
    {
     "data": {
      "text/plain": "0.993103448275862"
     },
     "execution_count": 19,
     "metadata": {},
     "output_type": "execute_result"
    }
   ],
   "source": [
    "from sklearn.pipeline import Pipeline, make_pipeline # ter illustratie, make_pipeline heeft lichtjes andersyntax dan met Pipeline werken\n",
    "svm_clf = make_pipeline(StandardScaler(), SVC(random_state=10))\n",
    "cross_val_score(svm_clf, x_trn, y_trn).mean()"
   ]
  },
  {
   "cell_type": "markdown",
   "metadata": {},
   "source": [
    "Nu gaan ze zoeken naar optimizatie van parameters. Dit moet ik ook nog introduceren in de theorieles"
   ]
  },
  {
   "cell_type": "code",
   "execution_count": 20,
   "metadata": {
    "ExecuteTime": {
     "end_time": "2023-10-07T11:30:56.698519600Z",
     "start_time": "2023-10-07T11:30:56.481963400Z"
    }
   },
   "outputs": [
    {
     "name": "stdout",
     "output_type": "stream",
     "text": [
      "Best parameters found:  {'C': 1, 'gamma': 1}\n",
      "Best score:  1.0\n",
      "Accuracy: 0.8888888888888888\n",
      "              precision    recall  f1-score   support\n",
      "\n",
      "     class_0       1.00      1.00      1.00        10\n",
      "     class_1       1.00      0.78      0.88        18\n",
      "     class_2       0.67      1.00      0.80         8\n",
      "\n",
      "    accuracy                           0.89        36\n",
      "   macro avg       0.89      0.93      0.89        36\n",
      "weighted avg       0.93      0.89      0.89        36\n"
     ]
    }
   ],
   "source": [
    "# optimaliseer de parameters met CVGrid Search\n",
    "from sklearn import datasets\n",
    "from sklearn.model_selection import train_test_split, GridSearchCV\n",
    "from sklearn import svm\n",
    "from sklearn.preprocessing import StandardScaler\n",
    "from sklearn.metrics import classification_report, accuracy_score\n",
    "\n",
    "wine = datasets.load_wine()\n",
    "x = wine.data\n",
    "y = wine.target\n",
    "\n",
    "x_trn, x_tst, y_trn, y_tst = train_test_split(\n",
    "    x, y, test_size=0.2, random_state=10\n",
    ")\n",
    "\n",
    "sc = StandardScaler()\n",
    "x_trn = sc.fit_transform(x_trn)\n",
    "x_tst = sc.transform(x_tst)\n",
    "\n",
    "param_grid = {'C': [0.1, 1, 10, 100], 'gamma': [1, 0.1, 0.01, 0.001]}\n",
    "\n",
    "clf = svm.SVC(kernel='linear')\n",
    "\n",
    "clf = GridSearchCV(clf, param_grid, refit=True)\n",
    "clf.fit(x_trn, y_trn)\n",
    "\n",
    "predicted = clf.predict(x_tst)\n",
    "print(\"Best parameters found: \", clf.best_params_)\n",
    "print(\"Best score: \", clf.best_score_)\n",
    "print(\"Accuracy:\", accuracy_score(y_tst, predicted))\n",
    "print(classification_report(y_tst, predicted, target_names=wine.target_names))"
   ]
  },
  {
   "cell_type": "markdown",
   "metadata": {},
   "source": [
    "Vergelijk nu de best_score_component van de CVGridSearch met de score die dit model haalt op de test set. Er zit een verschil op. Wat is er gebeurt ? Hoe hadden we dit moeten oplossen ?\n",
    "\n",
    "    De crossvalidatie score is gelijk aan 1, het model is overfit."
   ]
  },
  {
   "cell_type": "markdown",
   "metadata": {},
   "source": [
    "## Regressie met een SVM"
   ]
  },
  {
   "cell_type": "markdown",
   "metadata": {},
   "source": [
    "Gegeven een dataset, kan je regressie doen in plaats van classificatie. De algoritmes werken bijna hetzelfde, met volgende cruciaal verschil:\n",
    "- de classifier wil zoveel mogelijk instances *buiten* de straat zetten.\n",
    "- de regressor wil zoveel mogelijk instances *binnen* de straat zetten."
   ]
  },
  {
   "cell_type": "markdown",
   "metadata": {},
   "source": [
    "Beschouw volgende dataset die je wil benaderen met een regressiemodel:"
   ]
  },
  {
   "cell_type": "code",
   "execution_count": 21,
   "metadata": {
    "ExecuteTime": {
     "end_time": "2023-10-07T11:30:56.748335900Z",
     "start_time": "2023-10-07T11:30:56.691817300Z"
    }
   },
   "outputs": [],
   "source": [
    "from sklearn.svm import SVR # de R in SVR is van regressor, de C in SVC van classifier\n",
    "import numpy as np\n",
    "from sklearn.pipeline import Pipeline, make_pipeline\n",
    "from sklearn.preprocessing import StandardScaler\n",
    "from sklearn.model_selection import GridSearchCV\n",
    "\n",
    "# code om een kwadratische dataset te genereren\n",
    "np.random.seed(42)\n",
    "X = 2 * np.random.rand(50, 1) - 1\n",
    "y = 0.2 + 0.1 * X[:, 0] + 0.5 * X[:, 0] ** 2 + np.random.randn(50) / 10"
   ]
  },
  {
   "cell_type": "code",
   "execution_count": 22,
   "metadata": {
    "ExecuteTime": {
     "end_time": "2023-10-07T11:30:58.794820200Z",
     "start_time": "2023-10-07T11:30:56.710859200Z"
    }
   },
   "outputs": [
    {
     "name": "stdout",
     "output_type": "stream",
     "text": [
      "Best parameters found:  {'svr__C': 1, 'svr__epsilon': 0.1, 'svr__kernel': 'rbf'}\n"
     ]
    },
    {
     "data": {
      "text/plain": "Pipeline(steps=[('standardscaler', StandardScaler()), ('svr', SVR(C=1))])",
      "text/html": "<style>#sk-container-id-2 {color: black;}#sk-container-id-2 pre{padding: 0;}#sk-container-id-2 div.sk-toggleable {background-color: white;}#sk-container-id-2 label.sk-toggleable__label {cursor: pointer;display: block;width: 100%;margin-bottom: 0;padding: 0.3em;box-sizing: border-box;text-align: center;}#sk-container-id-2 label.sk-toggleable__label-arrow:before {content: \"▸\";float: left;margin-right: 0.25em;color: #696969;}#sk-container-id-2 label.sk-toggleable__label-arrow:hover:before {color: black;}#sk-container-id-2 div.sk-estimator:hover label.sk-toggleable__label-arrow:before {color: black;}#sk-container-id-2 div.sk-toggleable__content {max-height: 0;max-width: 0;overflow: hidden;text-align: left;background-color: #f0f8ff;}#sk-container-id-2 div.sk-toggleable__content pre {margin: 0.2em;color: black;border-radius: 0.25em;background-color: #f0f8ff;}#sk-container-id-2 input.sk-toggleable__control:checked~div.sk-toggleable__content {max-height: 200px;max-width: 100%;overflow: auto;}#sk-container-id-2 input.sk-toggleable__control:checked~label.sk-toggleable__label-arrow:before {content: \"▾\";}#sk-container-id-2 div.sk-estimator input.sk-toggleable__control:checked~label.sk-toggleable__label {background-color: #d4ebff;}#sk-container-id-2 div.sk-label input.sk-toggleable__control:checked~label.sk-toggleable__label {background-color: #d4ebff;}#sk-container-id-2 input.sk-hidden--visually {border: 0;clip: rect(1px 1px 1px 1px);clip: rect(1px, 1px, 1px, 1px);height: 1px;margin: -1px;overflow: hidden;padding: 0;position: absolute;width: 1px;}#sk-container-id-2 div.sk-estimator {font-family: monospace;background-color: #f0f8ff;border: 1px dotted black;border-radius: 0.25em;box-sizing: border-box;margin-bottom: 0.5em;}#sk-container-id-2 div.sk-estimator:hover {background-color: #d4ebff;}#sk-container-id-2 div.sk-parallel-item::after {content: \"\";width: 100%;border-bottom: 1px solid gray;flex-grow: 1;}#sk-container-id-2 div.sk-label:hover label.sk-toggleable__label {background-color: #d4ebff;}#sk-container-id-2 div.sk-serial::before {content: \"\";position: absolute;border-left: 1px solid gray;box-sizing: border-box;top: 0;bottom: 0;left: 50%;z-index: 0;}#sk-container-id-2 div.sk-serial {display: flex;flex-direction: column;align-items: center;background-color: white;padding-right: 0.2em;padding-left: 0.2em;position: relative;}#sk-container-id-2 div.sk-item {position: relative;z-index: 1;}#sk-container-id-2 div.sk-parallel {display: flex;align-items: stretch;justify-content: center;background-color: white;position: relative;}#sk-container-id-2 div.sk-item::before, #sk-container-id-2 div.sk-parallel-item::before {content: \"\";position: absolute;border-left: 1px solid gray;box-sizing: border-box;top: 0;bottom: 0;left: 50%;z-index: -1;}#sk-container-id-2 div.sk-parallel-item {display: flex;flex-direction: column;z-index: 1;position: relative;background-color: white;}#sk-container-id-2 div.sk-parallel-item:first-child::after {align-self: flex-end;width: 50%;}#sk-container-id-2 div.sk-parallel-item:last-child::after {align-self: flex-start;width: 50%;}#sk-container-id-2 div.sk-parallel-item:only-child::after {width: 0;}#sk-container-id-2 div.sk-dashed-wrapped {border: 1px dashed gray;margin: 0 0.4em 0.5em 0.4em;box-sizing: border-box;padding-bottom: 0.4em;background-color: white;}#sk-container-id-2 div.sk-label label {font-family: monospace;font-weight: bold;display: inline-block;line-height: 1.2em;}#sk-container-id-2 div.sk-label-container {text-align: center;}#sk-container-id-2 div.sk-container {/* jupyter's `normalize.less` sets `[hidden] { display: none; }` but bootstrap.min.css set `[hidden] { display: none !important; }` so we also need the `!important` here to be able to override the default hidden behavior on the sphinx rendered scikit-learn.org. See: https://github.com/scikit-learn/scikit-learn/issues/21755 */display: inline-block !important;position: relative;}#sk-container-id-2 div.sk-text-repr-fallback {display: none;}</style><div id=\"sk-container-id-2\" class=\"sk-top-container\"><div class=\"sk-text-repr-fallback\"><pre>Pipeline(steps=[(&#x27;standardscaler&#x27;, StandardScaler()), (&#x27;svr&#x27;, SVR(C=1))])</pre><b>In a Jupyter environment, please rerun this cell to show the HTML representation or trust the notebook. <br />On GitHub, the HTML representation is unable to render, please try loading this page with nbviewer.org.</b></div><div class=\"sk-container\" hidden><div class=\"sk-item sk-dashed-wrapped\"><div class=\"sk-label-container\"><div class=\"sk-label sk-toggleable\"><input class=\"sk-toggleable__control sk-hidden--visually\" id=\"sk-estimator-id-5\" type=\"checkbox\" ><label for=\"sk-estimator-id-5\" class=\"sk-toggleable__label sk-toggleable__label-arrow\">Pipeline</label><div class=\"sk-toggleable__content\"><pre>Pipeline(steps=[(&#x27;standardscaler&#x27;, StandardScaler()), (&#x27;svr&#x27;, SVR(C=1))])</pre></div></div></div><div class=\"sk-serial\"><div class=\"sk-item\"><div class=\"sk-estimator sk-toggleable\"><input class=\"sk-toggleable__control sk-hidden--visually\" id=\"sk-estimator-id-6\" type=\"checkbox\" ><label for=\"sk-estimator-id-6\" class=\"sk-toggleable__label sk-toggleable__label-arrow\">StandardScaler</label><div class=\"sk-toggleable__content\"><pre>StandardScaler()</pre></div></div></div><div class=\"sk-item\"><div class=\"sk-estimator sk-toggleable\"><input class=\"sk-toggleable__control sk-hidden--visually\" id=\"sk-estimator-id-7\" type=\"checkbox\" ><label for=\"sk-estimator-id-7\" class=\"sk-toggleable__label sk-toggleable__label-arrow\">SVR</label><div class=\"sk-toggleable__content\"><pre>SVR(C=1)</pre></div></div></div></div></div></div></div>"
     },
     "execution_count": 22,
     "metadata": {},
     "output_type": "execute_result"
    }
   ],
   "source": [
    "pipe = make_pipeline(\n",
    "    StandardScaler(),\n",
    "    SVR()\n",
    ")\n",
    "\n",
    "param_grid = {\n",
    "    'svr__kernel': ['linear', 'poly', 'rbf','sigmoid'],\n",
    "    'svr__C': [0.1, 1, 10, 100],\n",
    "    'svr__epsilon': [0.1, 0.2, 0.3, 0.4, 0.5, 0.6, 0.7, 0.8, 0.9, 1.0]\n",
    "}\n",
    "\n",
    "x_trn, x_tst, y_trn, y_tst = train_test_split(\n",
    "    X, y, test_size=0.2, random_state=10\n",
    ")\n",
    "\n",
    "gridsearch = GridSearchCV(pipe, param_grid, cv=5)\n",
    "gridsearch.fit(x_trn, y_trn)\n",
    "\n",
    "best_params = gridsearch.best_params_\n",
    "print(\"Best parameters found: \", best_params)\n",
    "\n",
    "# Use the best parameters to fit the model\n",
    "svm_poly_reg = make_pipeline(\n",
    "    StandardScaler(),\n",
    "    SVR(kernel=best_params['svr__kernel'], C=best_params['svr__C'], epsilon=best_params['svr__epsilon'])\n",
    ")\n",
    "svm_poly_reg.fit(x_trn, y_trn)"
   ]
  },
  {
   "cell_type": "markdown",
   "metadata": {},
   "source": [
    "Met volgende code kun je bekijken wat het model heeft bereikt (ter illustratie)"
   ]
  },
  {
   "cell_type": "code",
   "execution_count": 23,
   "metadata": {
    "ExecuteTime": {
     "end_time": "2023-10-07T11:30:59.204920100Z",
     "start_time": "2023-10-07T11:30:58.802854900Z"
    }
   },
   "outputs": [
    {
     "data": {
      "text/plain": "<Figure size 900x400 with 1 Axes>",
      "image/png": "[encoded data removed]"
     },
     "metadata": {},
     "output_type": "display_data"
    }
   ],
   "source": [
    "\n",
    "import matplotlib.pyplot as plt\n",
    "\n",
    "def find_support_vectors(svm_reg, X, y):\n",
    "    y_pred = svm_reg.predict(X)\n",
    "    epsilon = svm_reg[-1].epsilon\n",
    "    off_margin = np.abs(y - y_pred) >= epsilon\n",
    "    return np.argwhere(off_margin)\n",
    "\n",
    "def plot_svm_regression(svm_reg, X, y, axes):\n",
    "    x1s = np.linspace(axes[0], axes[1], 100).reshape(100, 1)\n",
    "    y_pred = svm_reg.predict(x1s)\n",
    "    epsilon = svm_reg[-1].epsilon\n",
    "    plt.plot(x1s, y_pred, \"k-\", linewidth=2, label=r\"$\\hat{y}$\", zorder=-2)\n",
    "    plt.plot(x1s, y_pred + epsilon, \"k--\", zorder=-2)\n",
    "    plt.plot(x1s, y_pred - epsilon, \"k--\", zorder=-2)\n",
    "    plt.scatter(X[svm_reg._support], y[svm_reg._support], s=180,\n",
    "                facecolors='#AAA', zorder=-1)\n",
    "    plt.plot(X, y, \"bo\")\n",
    "    plt.xlabel(\"$x_1$\")\n",
    "    plt.legend(loc=\"upper left\")\n",
    "    plt.axis(axes)\n",
    "\n",
    "svm_poly_reg._support = find_support_vectors(svm_poly_reg, X, y)\n",
    "\n",
    "fig, axes = plt.subplots(ncols=1, figsize=(9, 4), sharey=True)\n",
    "plt.sca(axes)\n",
    "plot_svm_regression(svm_poly_reg, X, y, [-1, 1, 0, 1])\n",
    "plt.title(f\"degree={svm_poly_reg[-1].degree}, \"\n",
    "          f\"C={svm_poly_reg[-1].C}, \"\n",
    "          f\"epsilon={svm_poly_reg[-1].epsilon}\")\n",
    "plt.ylabel(\"$y$\", rotation=0)\n",
    "plt.grid()\n",
    "\n",
    "plt.savefig(\"svm_with_polynomial_kernel_plot\")\n",
    "plt.show()"
   ]
  },
  {
   "cell_type": "markdown",
   "metadata": {},
   "source": [
    "Experimenteer met andere kernels en hperparameters of je betere resultaten kan bekomen."
   ]
  }
 ],
 "metadata": {
  "kernelspec": {
   "display_name": "ml_algorithms",
   "language": "python",
   "name": "python3"
  },
  "language_info": {
   "codemirror_mode": {
    "name": "ipython",
    "version": 3
   },
   "file_extension": ".py",
   "mimetype": "text/x-python",
   "name": "python",
   "nbconvert_exporter": "python",
   "pygments_lexer": "ipython3",
   "version": "3.11.4"
  },
  "orig_nbformat": 4
 },
 "nbformat": 4,
 "nbformat_minor": 2
}
